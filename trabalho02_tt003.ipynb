{
  "nbformat": 4,
  "nbformat_minor": 0,
  "metadata": {
    "colab": {
      "provenance": []
    },
    "kernelspec": {
      "name": "python3",
      "display_name": "Python 3"
    },
    "widgets": {
      "application/vnd.jupyter.widget-state+json": {
        "98c64ba788bb4e39954fbf52a0b6f1c1": {
          "model_module": "@jupyter-widgets/controls",
          "model_name": "VBoxModel",
          "model_module_version": "1.5.0",
          "state": {
            "_dom_classes": [
              "widget-interact"
            ],
            "_model_module": "@jupyter-widgets/controls",
            "_model_module_version": "1.5.0",
            "_model_name": "VBoxModel",
            "_view_count": null,
            "_view_module": "@jupyter-widgets/controls",
            "_view_module_version": "1.5.0",
            "_view_name": "VBoxView",
            "box_style": "",
            "children": [
              "IPY_MODEL_74e2c575ebc74eaf901fc37b5b0a34d8",
              "IPY_MODEL_88df5e29ec6741fa9736f99c3e365030"
            ],
            "layout": "IPY_MODEL_128cda3161484291abcd0fdca3454baf"
          }
        },
        "74e2c575ebc74eaf901fc37b5b0a34d8": {
          "model_module": "@jupyter-widgets/controls",
          "model_name": "IntSliderModel",
          "model_module_version": "1.5.0",
          "state": {
            "_dom_classes": [],
            "_model_module": "@jupyter-widgets/controls",
            "_model_module_version": "1.5.0",
            "_model_name": "IntSliderModel",
            "_view_count": null,
            "_view_module": "@jupyter-widgets/controls",
            "_view_module_version": "1.5.0",
            "_view_name": "IntSliderView",
            "continuous_update": true,
            "description": "frame",
            "description_tooltip": null,
            "disabled": false,
            "layout": "IPY_MODEL_7ded631ac1374a9290cc357fb9b33e27",
            "max": 5,
            "min": 0,
            "orientation": "horizontal",
            "readout": true,
            "readout_format": "d",
            "step": 1,
            "style": "IPY_MODEL_2bd8fe878f0a496eb9d5776dc2aeee54",
            "value": 2
          }
        },
        "88df5e29ec6741fa9736f99c3e365030": {
          "model_module": "@jupyter-widgets/output",
          "model_name": "OutputModel",
          "model_module_version": "1.0.0",
          "state": {
            "_dom_classes": [],
            "_model_module": "@jupyter-widgets/output",
            "_model_module_version": "1.0.0",
            "_model_name": "OutputModel",
            "_view_count": null,
            "_view_module": "@jupyter-widgets/output",
            "_view_module_version": "1.0.0",
            "_view_name": "OutputView",
            "layout": "IPY_MODEL_3530dbb705c3439699a0beb6ba8132fc",
            "msg_id": "",
            "outputs": [
              {
                "output_type": "display_data",
                "data": {
                  "text/plain": "<PIL.Image.Image image mode=RGB size=200x200>",
                  "image/png": "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\n",
                  "image/jpeg": "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\n"
                },
                "metadata": {}
              }
            ]
          }
        },
        "128cda3161484291abcd0fdca3454baf": {
          "model_module": "@jupyter-widgets/base",
          "model_name": "LayoutModel",
          "model_module_version": "1.2.0",
          "state": {
            "_model_module": "@jupyter-widgets/base",
            "_model_module_version": "1.2.0",
            "_model_name": "LayoutModel",
            "_view_count": null,
            "_view_module": "@jupyter-widgets/base",
            "_view_module_version": "1.2.0",
            "_view_name": "LayoutView",
            "align_content": null,
            "align_items": null,
            "align_self": null,
            "border": null,
            "bottom": null,
            "display": null,
            "flex": null,
            "flex_flow": null,
            "grid_area": null,
            "grid_auto_columns": null,
            "grid_auto_flow": null,
            "grid_auto_rows": null,
            "grid_column": null,
            "grid_gap": null,
            "grid_row": null,
            "grid_template_areas": null,
            "grid_template_columns": null,
            "grid_template_rows": null,
            "height": null,
            "justify_content": null,
            "justify_items": null,
            "left": null,
            "margin": null,
            "max_height": null,
            "max_width": null,
            "min_height": null,
            "min_width": null,
            "object_fit": null,
            "object_position": null,
            "order": null,
            "overflow": null,
            "overflow_x": null,
            "overflow_y": null,
            "padding": null,
            "right": null,
            "top": null,
            "visibility": null,
            "width": null
          }
        },
        "7ded631ac1374a9290cc357fb9b33e27": {
          "model_module": "@jupyter-widgets/base",
          "model_name": "LayoutModel",
          "model_module_version": "1.2.0",
          "state": {
            "_model_module": "@jupyter-widgets/base",
            "_model_module_version": "1.2.0",
            "_model_name": "LayoutModel",
            "_view_count": null,
            "_view_module": "@jupyter-widgets/base",
            "_view_module_version": "1.2.0",
            "_view_name": "LayoutView",
            "align_content": null,
            "align_items": null,
            "align_self": null,
            "border": null,
            "bottom": null,
            "display": null,
            "flex": null,
            "flex_flow": null,
            "grid_area": null,
            "grid_auto_columns": null,
            "grid_auto_flow": null,
            "grid_auto_rows": null,
            "grid_column": null,
            "grid_gap": null,
            "grid_row": null,
            "grid_template_areas": null,
            "grid_template_columns": null,
            "grid_template_rows": null,
            "height": null,
            "justify_content": null,
            "justify_items": null,
            "left": null,
            "margin": null,
            "max_height": null,
            "max_width": null,
            "min_height": null,
            "min_width": null,
            "object_fit": null,
            "object_position": null,
            "order": null,
            "overflow": null,
            "overflow_x": null,
            "overflow_y": null,
            "padding": null,
            "right": null,
            "top": null,
            "visibility": null,
            "width": null
          }
        },
        "2bd8fe878f0a496eb9d5776dc2aeee54": {
          "model_module": "@jupyter-widgets/controls",
          "model_name": "SliderStyleModel",
          "model_module_version": "1.5.0",
          "state": {
            "_model_module": "@jupyter-widgets/controls",
            "_model_module_version": "1.5.0",
            "_model_name": "SliderStyleModel",
            "_view_count": null,
            "_view_module": "@jupyter-widgets/base",
            "_view_module_version": "1.2.0",
            "_view_name": "StyleView",
            "description_width": "",
            "handle_color": null
          }
        },
        "3530dbb705c3439699a0beb6ba8132fc": {
          "model_module": "@jupyter-widgets/base",
          "model_name": "LayoutModel",
          "model_module_version": "1.2.0",
          "state": {
            "_model_module": "@jupyter-widgets/base",
            "_model_module_version": "1.2.0",
            "_model_name": "LayoutModel",
            "_view_count": null,
            "_view_module": "@jupyter-widgets/base",
            "_view_module_version": "1.2.0",
            "_view_name": "LayoutView",
            "align_content": null,
            "align_items": null,
            "align_self": null,
            "border": null,
            "bottom": null,
            "display": null,
            "flex": null,
            "flex_flow": null,
            "grid_area": null,
            "grid_auto_columns": null,
            "grid_auto_flow": null,
            "grid_auto_rows": null,
            "grid_column": null,
            "grid_gap": null,
            "grid_row": null,
            "grid_template_areas": null,
            "grid_template_columns": null,
            "grid_template_rows": null,
            "height": null,
            "justify_content": null,
            "justify_items": null,
            "left": null,
            "margin": null,
            "max_height": null,
            "max_width": null,
            "min_height": null,
            "min_width": null,
            "object_fit": null,
            "object_position": null,
            "order": null,
            "overflow": null,
            "overflow_x": null,
            "overflow_y": null,
            "padding": null,
            "right": null,
            "top": null,
            "visibility": null,
            "width": null
          }
        },
        "3cb243a8ceb94ce1b83479678c4107ad": {
          "model_module": "@jupyter-widgets/controls",
          "model_name": "VBoxModel",
          "model_module_version": "1.5.0",
          "state": {
            "_dom_classes": [
              "widget-interact"
            ],
            "_model_module": "@jupyter-widgets/controls",
            "_model_module_version": "1.5.0",
            "_model_name": "VBoxModel",
            "_view_count": null,
            "_view_module": "@jupyter-widgets/controls",
            "_view_module_version": "1.5.0",
            "_view_name": "VBoxView",
            "box_style": "",
            "children": [
              "IPY_MODEL_28f7d5a4acef4c149eea077a8214e547",
              "IPY_MODEL_7864cb4056934eeba72ef915707ab12e"
            ],
            "layout": "IPY_MODEL_90bd4164d2fe4ff48d30ae7d0e2b01d1"
          }
        },
        "28f7d5a4acef4c149eea077a8214e547": {
          "model_module": "@jupyter-widgets/controls",
          "model_name": "IntSliderModel",
          "model_module_version": "1.5.0",
          "state": {
            "_dom_classes": [],
            "_model_module": "@jupyter-widgets/controls",
            "_model_module_version": "1.5.0",
            "_model_name": "IntSliderModel",
            "_view_count": null,
            "_view_module": "@jupyter-widgets/controls",
            "_view_module_version": "1.5.0",
            "_view_name": "IntSliderView",
            "continuous_update": true,
            "description": "frame",
            "description_tooltip": null,
            "disabled": false,
            "layout": "IPY_MODEL_85ced2077d3847e6a486aa97d2058f8d",
            "max": 19,
            "min": 0,
            "orientation": "horizontal",
            "readout": true,
            "readout_format": "d",
            "step": 1,
            "style": "IPY_MODEL_8a2017bf01d546f283efa51fdd37f5a0",
            "value": 9
          }
        },
        "7864cb4056934eeba72ef915707ab12e": {
          "model_module": "@jupyter-widgets/output",
          "model_name": "OutputModel",
          "model_module_version": "1.0.0",
          "state": {
            "_dom_classes": [],
            "_model_module": "@jupyter-widgets/output",
            "_model_module_version": "1.0.0",
            "_model_name": "OutputModel",
            "_view_count": null,
            "_view_module": "@jupyter-widgets/output",
            "_view_module_version": "1.0.0",
            "_view_name": "OutputView",
            "layout": "IPY_MODEL_188baf5234054e5581e25a7cc609d368",
            "msg_id": "",
            "outputs": [
              {
                "output_type": "display_data",
                "data": {
                  "text/plain": "<PIL.Image.Image image mode=RGB size=200x200>",
                  "image/png": "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\n",
                  "image/jpeg": "/9j/4AAQSkZJRgABAQAAAQABAAD/2wBDAAgGBgcGBQgHBwcJCQgKDBQNDAsLDBkSEw8UHRofHh0aHBwgJC4nICIsIxwcKDcpLDAxNDQ0Hyc5PTgyPC4zNDL/2wBDAQkJCQwLDBgNDRgyIRwhMjIyMjIyMjIyMjIyMjIyMjIyMjIyMjIyMjIyMjIyMjIyMjIyMjIyMjIyMjIyMjIyMjL/wAARCADIAMgDASIAAhEBAxEB/8QAHwAAAQUBAQEBAQEAAAAAAAAAAAECAwQFBgcICQoL/8QAtRAAAgEDAwIEAwUFBAQAAAF9AQIDAAQRBRIhMUEGE1FhByJxFDKBkaEII0KxwRVS0fAkM2JyggkKFhcYGRolJicoKSo0NTY3ODk6Q0RFRkdISUpTVFVWV1hZWmNkZWZnaGlqc3R1dnd4eXqDhIWGh4iJipKTlJWWl5iZmqKjpKWmp6ipqrKztLW2t7i5usLDxMXGx8jJytLT1NXW19jZ2uHi4+Tl5ufo6erx8vP09fb3+Pn6/8QAHwEAAwEBAQEBAQEBAQAAAAAAAAECAwQFBgcICQoL/8QAtREAAgECBAQDBAcFBAQAAQJ3AAECAxEEBSExBhJBUQdhcRMiMoEIFEKRobHBCSMzUvAVYnLRChYkNOEl8RcYGRomJygpKjU2Nzg5OkNERUZHSElKU1RVVldYWVpjZGVmZ2hpanN0dXZ3eHl6goOEhYaHiImKkpOUlZaXmJmaoqOkpaanqKmqsrO0tba3uLm6wsPExcbHyMnK0tPU1dbX2Nna4uPk5ebn6Onq8vP09fb3+Pn6/9oADAMBAAIRAxEAPwAooooAKKKKACuTvNT1DR/BOl31jHBIqW8ImWVScAqACMMO+Bjnr7V1lZekwR3PhWxt5l3RS2UaOucZBQAjigDg/wDhY+sf8+1j/wB8P/8AFUf8LH1j/n2sf++H/wDiq5vVdOk0rVLixlOWhfAb+8OoPU4yCDj3qnQB2H/Cx9Y/59rH/vh//iq6rwjrmp6/HcXF3FbR28ZCJ5SEFn6nqx6DHbnPXivKYIJLm4it4V3SyuERc4yScAc17hpWnR6VpdvYxHKwpgt/ePUnqcZJJx70Ac/eanqGj+CdLvrGOCRUt4RMsqk4BUAEYYd8DHPX2rm/+Fj6x/z7WP8A3w//AMVXeaTBHc+FbG3mXdFLZRo65xkFACOK8f1XTpNK1S4sZTloXwG/vDqD1OMgg496AOk/4WPrH/PtY/8AfD//ABVH/Cx9Y/59rH/vh/8A4quPqSCCS5uIreFd0srhEXOMknAHNAHq3hHXNT1+O4uLuK2jt4yETykILP1PVj0GO3OevFa2g/8AIvaZ/wBekX/oAqTStOj0rS7exiOVhTBb+8epPU4ySTj3qPQf+Re0z/r0i/8AQBQBoUUUUAFFFFAHJ3mp6ho/gnS76xjgkVLeETLKpOAVABGGHfAxz19q5v8A4WPrH/PtY/8AfD//ABVd5pMEdz4VsbeZd0UtlGjrnGQUAI4rx/VdOk0rVLixlOWhfAb+8OoPU4yCDj3oA6T/AIWPrH/PtY/98P8A/FUf8LH1j/n2sf8Avh//AIquPqSCCS5uIreFd0srhEXOMknAHNAHq3hHXNT1+O4uLuK2jt4yETykILP1PVj0GO3OevFFbWladHpWl29jEcrCmC3949SepxkknHvRQBcooooAKKKKACs/Qf8AkXtM/wCvSL/0AVoVn6D/AMi9pn/XpF/6AKAOX+IukedZxatGPngxHL/uE8Hr2Y44H8XtXm9e+TwR3NvLbzLuilQo65xkEYI4rxO+0i4s9dk0kDfOJRHH0G/djaeuBkEHrxmgDqPh1pHnXkurSD5IMxxf75HJ69lOOR/F7V6RVPStOj0rS7exiOVhTBb+8epPU4ySTj3q5QBn6D/yL2mf9ekX/oArl/iLpHnWcWrRj54MRy/7hPB69mOOB/F7V1Gg/wDIvaZ/16Rf+gCrk8Edzby28y7opUKOucZBGCOKAPA67j4daR515Lq0g+SDMcX++RyevZTjkfxe1cvfaRcWeuyaSBvnEojj6DfuxtPXAyCD14zXsmladHpWl29jEcrCmC3949SepxkknHvQBcrP0H/kXtM/69Iv/QBWhWfoP/IvaZ/16Rf+gCgDQooooAKKKKAM/Qf+Re0z/r0i/wDQBXL/ABF0jzrOLVox88GI5f8AcJ4PXsxxwP4vauo0H/kXtM/69Iv/AEAVcngjubeW3mXdFKhR1zjIIwRxQB4HXcfDrSPOvJdWkHyQZji/3yOT17Kccj+L2rl77SLiz12TSQN84lEcfQb92Np64GQQevGa9k0rTo9K0u3sYjlYUwW/vHqT1OMkk496ALlFFFABRWf/AGDo/wD0CbH/AMB0/wAKP7B0f/oE2P8A4Dp/hQBoUVn/ANg6P/0CbH/wHT/Cj+wdH/6BNj/4Dp/hQBoVn6D/AMi9pn/XpF/6AKP7B0f/AKBNj/4Dp/hXM3H2DRvCemagfD9neh4IhMxRQykoPmJ2HOT3PcjrmgDtqoy6RaTaxBqroxuoIzGh3HGDnt7Zb/vo+2PPf+Ew0f8A6FKx/NP/AI3R/wAJho//AEKVj+af/G6APUKK8v8A+Ew0f/oUrH80/wDjddB4am03xF57/wDCM2NvBFgeYUVtzHsPkA4HXnuPWgDoNB/5F7TP+vSL/wBAFaFYOi6LpUuhafJJplm7vbRszNApJJUZJOKvf2Do/wD0CbH/AMB0/wAKAHS6RaTaxBqroxuoIzGh3HGDnt7Zb/vo+2L1V08J2MljJepoVo1rE4R5RaptUnoOn+cj1FV/7B0f/oE2P/gOn+FAGhWfoP8AyL2mf9ekX/oAo/sHR/8AoE2P/gOn+FUdF0XSpdC0+STTLN3e2jZmaBSSSoyScUAb1FZ/9g6P/wBAmx/8B0/wo/sHR/8AoE2P/gOn+FAGhRWf/YOj/wDQJsf/AAHT/Cj+wdH/AOgTY/8AgOn+FABoP/IvaZ/16Rf+gCtCsHRdF0qXQtPkk0yzd3to2ZmgUkkqMknFXv7B0f8A6BNj/wCA6f4UAOl0i0m1iDVXRjdQRmNDuOMHPb2y3/fR9sXqz/7B0f8A6BNj/wCA6f4Uf2Do/wD0CbH/AMB0/wAKANCis/8AsHR/+gTY/wDgOn+FFAGhRRRQAUUUUAFY9hZQ6j4Ps7O4XMU1lGrcDI+QcjPcdR7itis/Qf8AkXtM/wCvSL/0AUAeL31lNp19PZ3C4lhcq3BwfcZ7HqPY1Xr0T4haErwjWoBh02xzqAACOgb1JyQO/GOmK87oAdHG8sixxozu5CqqjJJPQAV7ZoOkpoujwWa7S6jdKw/ic9TnAz6DPOAK4X4f6Et5eNqs4zFbPtiUgENJjqf93IP1I54r0ygDP0H/AJF7TP8Ar0i/9AFaUcbyyLHGjO7kKqqMkk9ABWboP/IvaZ/16Rf+gCvQvAOhm81D+1JkU29sSEBIO6XA7ewOc8c4x3oA7PT/AA7bW3hkaPMqsJIyJmUA5c9WBI7HoSOMD0ryK+sptOvprO4XEsLlW4OD7jPY9R7Gvd64H4haGWVNZgRcIAlzyB3AVvfrg8/3fQ0AefVn6D/yL2mf9ekX/oArQrP0H/kXtM/69Iv/AEAUAaFFFFABRRRQBn6D/wAi9pn/AF6Rf+gCtCs/Qf8AkXtM/wCvSL/0AVoUAFFFFABRRRQAUUUUAFFFFABWfoP/ACL2mf8AXpF/6AK0Kz9B/wCRe0z/AK9Iv/QBQBcngjubeW3mXdFKhR1zjIIwRxXid9pFxZ67JpIG+cSiOPoN+7G09cDIIPXjNe4VRl0i0m1iDVXRjdQRmNDuOMHPb2y3/fR9sADtK06PStLt7GI5WFMFv7x6k9TjJJOPerlFFAFPw1BJc6NpFvCu6WW3hRFzjJKgAc17/pWnx6VpdvYxHKwpgt/ePUnqcZJJx714x8OdT0/R7LTb6+jnkZLKMQrEoOCUAJOWHbIxz19q9D/4WPo//Ptff98J/wDFUAdhUc8Edzby28y7opUKOucZBGCOK5P/AIWPo/8Az7X3/fCf/FUf8LH0f/n2vv8AvhP/AIqgDzzVdPk0rVLixlOWhfAb+8OoPU4yCDj3rD0H/kXtM/69Iv8A0AV23i7XNM16S3uLSK5juIwUfzVADJ1HRj0Oe3OevFcToP8AyL2mf9ekX/oAoA0KKKKACiiigDP0H/kXtM/69Iv/AEAVoVn6D/yL2mf9ekX/AKAK0KACiiigAooooAz/AOwdH/6BNj/4Dp/hR/YOj/8AQJsf/AdP8K0KKAM/+wdH/wCgTY/+A6f4Uf2Do/8A0CbH/wAB0/wrQooAz/7B0f8A6BNj/wCA6f4VR0XRdKl0LT5JNMs3d7aNmZoFJJKjJJxW9WfoP/IvaZ/16Rf+gCgA/sHR/wDoE2P/AIDp/hR/YOj/APQJsf8AwHT/AArQooAz/wCwdH/6BNj/AOA6f4Uf2Do//QJsf/AdP8K0KKAMHRdF0qXQtPkk0yzd3to2ZmgUkkqMknFXv7B0f/oE2P8A4Dp/hRoP/IvaZ/16Rf8AoArQoAz/AOwdH/6BNj/4Dp/hR/YOj/8AQJsf/AdP8K0KKAM/+wdH/wCgTY/+A6f4VR0XRdKl0LT5JNMs3d7aNmZoFJJKjJJxW9WfoP8AyL2mf9ekX/oAoAP7B0f/AKBNj/4Dp/hR/YOj/wDQJsf/AAHT/CtCigDP/sHR/wDoE2P/AIDp/hR/YOj/APQJsf8AwHT/AArQooAwdF0XSpdC0+STTLN3e2jZmaBSSSoyScVe/sHR/wDoE2P/AIDp/hRoP/IvaZ/16Rf+gCtCgDP/ALB0f/oE2P8A4Dp/hR/YOj/9Amx/8B0/wrQooAz/AOwdH/6BNj/4Dp/hRWhRQAUUUUAFFFFABWfoP/IvaZ/16Rf+gCtCs/Qf+Re0z/r0i/8AQBQBoUUUUAFFFFAGfoP/ACL2mf8AXpF/6AK0Kz9B/wCRe0z/AK9Iv/QBWhQAUUUUAFZ+g/8AIvaZ/wBekX/oArQrP0H/AJF7TP8Ar0i/9AFAGhRRRQAUUUUAZ+g/8i9pn/XpF/6AK0Kz9B/5F7TP+vSL/wBAFaFABRRRQAUUUUAFFZ/9g6P/ANAmx/8AAdP8KP7B0f8A6BNj/wCA6f4UAaFFZ/8AYOj/APQJsf8AwHT/AAo/sHR/+gTY/wDgOn+FAGhWfoP/ACL2mf8AXpF/6AKP7B0f/oE2P/gOn+FUdF0XSpdC0+STTLN3e2jZmaBSSSoyScUAb1FZ/wDYOj/9Amx/8B0/wqwnhOxksZL1NCtGtYnCPKLVNqk9B0/zkeooAsUVn/2Do/8A0CbH/wAB0/wo/sHR/wDoE2P/AIDp/hQAaD/yL2mf9ekX/oArQrB0XRdKl0LT5JNMs3d7aNmZoFJJKjJJxV7+wdH/AOgTY/8AgOn+FAGhRVdPCdjJYyXqaFaNaxOEeUWqbVJ6Dp/nI9RVf+wdH/6BNj/4Dp/hQBoVn6D/AMi9pn/XpF/6AKP7B0f/AKBNj/4Dp/hVHRdF0qXQtPkk0yzd3to2ZmgUkkqMknFAG9RWf/YOj/8AQJsf/AdP8KP7B0f/AKBNj/4Dp/hQBoUVn/2Do/8A0CbH/wAB0/wo/sHR/wDoE2P/AIDp/hQAaD/yL2mf9ekX/oArQribj7Bo3hPTNQPh+zvQ8EQmYooZSUHzE7DnJ7nuR1zWL/wmGj/9ClY/mn/xugD1CivL/wDhMNH/AOhSsfzT/wCN0f8ACYaP/wBClY/mn/xugD1CiuP8NTab4i89/wDhGbG3giwPMKK25j2HyAcDrz3HrRQB2FFFFABRRRQAVn6D/wAi9pn/AF6Rf+gCtCs/Qf8AkXtM/wCvSL/0AUAaUcbyyLHGjO7kKqqMkk9ABXsen+Hba28MjR5lVhJGRMygHLnqwJHY9CRxgelcZ4B0M3mof2pMim3tiQgJB3S4Hb2BznjnGO9em0AeEX1lNp19NZ3C4lhcq3BwfcZ7HqPY1Xr0H4haGWVNZgRcIAlzyB3AVvfrg8/3fQ159QBn6D/yL2mf9ekX/oArSjjeWRY40Z3chVVRkknoAKzdB/5F7TP+vSL/ANAFeheAdDN5qH9qTIpt7YkICQd0uB29gc545xjvQB2en+Hba28MjR5lVhJGRMygHLnqwJHY9CRxgeleRX1lNp19NZ3C4lhcq3BwfcZ7HqPY17vXA/ELQyyprMCLhAEueQO4Ct79cHn+76GgDz6s/Qf+Re0z/r0i/wDQBWhWfoP/ACL2mf8AXpF/6AKANCiiigAooooAx7Cyh1HwfZ2dwuYprKNW4GR8g5Ge46j3FeP31lNp19PZ3C4lhcq3BwfcZ7HqPY17RoP/ACL2mf8AXpF/6AK5P4haErwjWoBh02xzqAACOgb1JyQO/GOmKAPO6dHG8sixxozu5CqqjJJPQAU2u0+H+hLeXjarOMxWz7YlIBDSY6n/AHcg/UjnigDutB0lNF0eCzXaXUbpWH8Tnqc4GfQZ5wBRWlRQAUUUUAFFFFABVPw1BJc6NpFvCu6WW3hRFzjJKgAc1cq58OdT0/R7LTb6+jnkZLKMQrEoOCUAJOWHbIxz19qAPZ9K0+PStLt7GI5WFMFv7x6k9TjJJOPerlcf/wALH0f/AJ9r7/vhP/iqP+Fj6P8A8+19/wB8J/8AFUAdZPBHc28tvMu6KVCjrnGQRgjivENV0+TStUuLGU5aF8Bv7w6g9TjIIOPevQ/+Fj6P/wA+19/3wn/xVct4u1zTNekt7i0iuY7iMFH81QAydR0Y9DntznrxQBxvhqCS50bSLeFd0stvCiLnGSVAA5r3/StPj0rS7exiOVhTBb+8epPU4ySTj3rxj4c6np+j2Wm319HPIyWUYhWJQcEoAScsO2Rjnr7V6H/wsfR/+fa+/wC+E/8AiqAOwqOeCO5t5beZd0UqFHXOMgjBHFcn/wALH0f/AJ9r7/vhP/iqP+Fj6P8A8+19/wB8J/8AFUAeearp8mlapcWMpy0L4Df3h1B6nGQQce9Yeg/8i9pn/XpF/wCgCu28Xa5pmvSW9xaRXMdxGCj+aoAZOo6Mehz25z14ridB/wCRe0z/AK9Iv/QBQBoUUUUAFFFFAGfoP/IvaZ/16Rf+gCrk8Edzby28y7opUKOucZBGCOKp6D/yL2mf9ekX/oArQoA8PvtIuLPXZNJA3ziURx9Bv3Y2nrgZBB68Zr2TStOj0rS7exiOVhTBb+8epPU4ySTj3psukWk2sQaq6MbqCMxodxxg57e2W/76Pti9QAUUUUAZ/wDYOj/9Amx/8B0/wo/sHR/+gTY/+A6f4VoUUAZ/9g6P/wBAmx/8B0/wo/sHR/8AoE2P/gOn+FaFFAGf/YOj/wDQJsf/AAHT/CqOi6LpUuhafJJplm7vbRszNApJJUZJOK3qz9B/5F7TP+vSL/0AUAH9g6P/ANAmx/8AAdP8KsJ4TsZLGS9TQrRrWJwjyi1TapPQdP8AOR6irUcbyyLHGjO7kKqqMkk9ABXsen+Hba28MjR5lVhJGRMygHLnqwJHY9CRxgelAHhX9g6P/wBAmx/8B0/wo/sHR/8AoE2P/gOn+FbF9ZTadfTWdwuJYXKtwcH3Gex6j2NV6AMHRdF0qXQtPkk0yzd3to2ZmgUkkqMknFXv7B0f/oE2P/gOn+FGg/8AIvaZ/wBekX/oArQoAz/7B0f/AKBNj/4Dp/hR/YOj/wDQJsf/AAHT/CtCigDP/sHR/wDoE2P/AIDp/hVHRdF0qXQtPkk0yzd3to2ZmgUkkqMknFb1Z+g/8i9pn/XpF/6AKAD+wdH/AOgTY/8AgOn+FH9g6P8A9Amx/wDAdP8ACtCigDP/ALB0f/oE2P8A4Dp/hR/YOj/9Amx/8B0/wrQooAwdF0XSpdC0+STTLN3e2jZmaBSSSoyScVe/sHR/+gTY/wDgOn+FGg/8i9pn/XpF/wCgCtKON5ZFjjRndyFVVGSSegAoAqp4TsZLGS9TQrRrWJwjyi1TapPQdP8AOR6iq/8AYOj/APQJsf8AwHT/AAr3XT/DttbeGRo8yqwkjImZQDlz1YEjsehI4wPSvIr6ym06+ms7hcSwuVbg4PuM9j1HsaAMf+wdH/6BNj/4Dp/hRWhRQAUUUUAFFFFABWfoP/IvaZ/16Rf+gCtCqfhqCS50bSLeFd0stvCiLnGSVAA5oA77wDoZvNQ/tSZFNvbEhASDulwO3sDnPHOMd69NqnpWnx6VpdvYxHKwpgt/ePUnqcZJJx71coA4H4haGWVNZgRcIAlzyB3AVvfrg8/3fQ159Xvc8Edzby28y7opUKOucZBGCOK8Q1XT5NK1S4sZTloXwG/vDqD1OMgg496AMPQf+Re0z/r0i/8AQBWhWfoP/IvaZ/16Rf8AoArQoAKKKKACs/Qf+Re0z/r0i/8AQBWhWfoP/IvaZ/16Rf8AoAoA0KKKKACiiigDP0H/AJF7TP8Ar0i/9AFeheAdDN5qH9qTIpt7YkICQd0uB29gc545xjvXA+GoJLnRtIt4V3Sy28KIucZJUADmvf8AStPj0rS7exiOVhTBb+8epPU4ySTj3oAuVwPxC0MsqazAi4QBLnkDuAre/XB5/u+hrvqjngjubeW3mXdFKhR1zjIIwRxQB4JRVzVdPk0rVLixlOWhfAb+8OoPU4yCDj3ooAp0UUUAFFFFABVz4c6np+j2Wm319HPIyWUYhWJQcEoAScsO2Rjnr7UUUAeh/wDCx9H/AOfa+/74T/4qj/hY+j/8+19/3wn/AMVRRQAf8LH0f/n2vv8AvhP/AIquW8Xa5pmvSW9xaRXMdxGCj+aoAZOo6Mehz25z14oooA4nQf8AkXtM/wCvSL/0AVoUUUAFFFFABWfoP/IvaZ/16Rf+gCiigDQooooAKKKKALnw51PT9HstNvr6OeRksoxCsSg4JQAk5YdsjHPX2r0P/hY+j/8APtff98J/8VRRQAf8LH0f/n2vv++E/wDiqP8AhY+j/wDPtff98J/8VRRQBy3i7XNM16S3uLSK5juIwUfzVADJ1HRj0Oe3OevFFFFAH//Z\n"
                },
                "metadata": {}
              }
            ]
          }
        },
        "90bd4164d2fe4ff48d30ae7d0e2b01d1": {
          "model_module": "@jupyter-widgets/base",
          "model_name": "LayoutModel",
          "model_module_version": "1.2.0",
          "state": {
            "_model_module": "@jupyter-widgets/base",
            "_model_module_version": "1.2.0",
            "_model_name": "LayoutModel",
            "_view_count": null,
            "_view_module": "@jupyter-widgets/base",
            "_view_module_version": "1.2.0",
            "_view_name": "LayoutView",
            "align_content": null,
            "align_items": null,
            "align_self": null,
            "border": null,
            "bottom": null,
            "display": null,
            "flex": null,
            "flex_flow": null,
            "grid_area": null,
            "grid_auto_columns": null,
            "grid_auto_flow": null,
            "grid_auto_rows": null,
            "grid_column": null,
            "grid_gap": null,
            "grid_row": null,
            "grid_template_areas": null,
            "grid_template_columns": null,
            "grid_template_rows": null,
            "height": null,
            "justify_content": null,
            "justify_items": null,
            "left": null,
            "margin": null,
            "max_height": null,
            "max_width": null,
            "min_height": null,
            "min_width": null,
            "object_fit": null,
            "object_position": null,
            "order": null,
            "overflow": null,
            "overflow_x": null,
            "overflow_y": null,
            "padding": null,
            "right": null,
            "top": null,
            "visibility": null,
            "width": null
          }
        },
        "85ced2077d3847e6a486aa97d2058f8d": {
          "model_module": "@jupyter-widgets/base",
          "model_name": "LayoutModel",
          "model_module_version": "1.2.0",
          "state": {
            "_model_module": "@jupyter-widgets/base",
            "_model_module_version": "1.2.0",
            "_model_name": "LayoutModel",
            "_view_count": null,
            "_view_module": "@jupyter-widgets/base",
            "_view_module_version": "1.2.0",
            "_view_name": "LayoutView",
            "align_content": null,
            "align_items": null,
            "align_self": null,
            "border": null,
            "bottom": null,
            "display": null,
            "flex": null,
            "flex_flow": null,
            "grid_area": null,
            "grid_auto_columns": null,
            "grid_auto_flow": null,
            "grid_auto_rows": null,
            "grid_column": null,
            "grid_gap": null,
            "grid_row": null,
            "grid_template_areas": null,
            "grid_template_columns": null,
            "grid_template_rows": null,
            "height": null,
            "justify_content": null,
            "justify_items": null,
            "left": null,
            "margin": null,
            "max_height": null,
            "max_width": null,
            "min_height": null,
            "min_width": null,
            "object_fit": null,
            "object_position": null,
            "order": null,
            "overflow": null,
            "overflow_x": null,
            "overflow_y": null,
            "padding": null,
            "right": null,
            "top": null,
            "visibility": null,
            "width": null
          }
        },
        "8a2017bf01d546f283efa51fdd37f5a0": {
          "model_module": "@jupyter-widgets/controls",
          "model_name": "SliderStyleModel",
          "model_module_version": "1.5.0",
          "state": {
            "_model_module": "@jupyter-widgets/controls",
            "_model_module_version": "1.5.0",
            "_model_name": "SliderStyleModel",
            "_view_count": null,
            "_view_module": "@jupyter-widgets/base",
            "_view_module_version": "1.2.0",
            "_view_name": "StyleView",
            "description_width": "",
            "handle_color": null
          }
        },
        "188baf5234054e5581e25a7cc609d368": {
          "model_module": "@jupyter-widgets/base",
          "model_name": "LayoutModel",
          "model_module_version": "1.2.0",
          "state": {
            "_model_module": "@jupyter-widgets/base",
            "_model_module_version": "1.2.0",
            "_model_name": "LayoutModel",
            "_view_count": null,
            "_view_module": "@jupyter-widgets/base",
            "_view_module_version": "1.2.0",
            "_view_name": "LayoutView",
            "align_content": null,
            "align_items": null,
            "align_self": null,
            "border": null,
            "bottom": null,
            "display": null,
            "flex": null,
            "flex_flow": null,
            "grid_area": null,
            "grid_auto_columns": null,
            "grid_auto_flow": null,
            "grid_auto_rows": null,
            "grid_column": null,
            "grid_gap": null,
            "grid_row": null,
            "grid_template_areas": null,
            "grid_template_columns": null,
            "grid_template_rows": null,
            "height": null,
            "justify_content": null,
            "justify_items": null,
            "left": null,
            "margin": null,
            "max_height": null,
            "max_width": null,
            "min_height": null,
            "min_width": null,
            "object_fit": null,
            "object_position": null,
            "order": null,
            "overflow": null,
            "overflow_x": null,
            "overflow_y": null,
            "padding": null,
            "right": null,
            "top": null,
            "visibility": null,
            "width": null
          }
        }
      }
    }
  },
  "cells": [
    {
      "cell_type": "markdown",
      "metadata": {
        "id": "hNHiTpWV3K0Z"
      },
      "source": [
        "\n",
        "Neste trabalho, vamos tentar representar outro jogo  de tabuleiro com o conhecimento que temos da linguagem Python. Este notebook oferecerá a você uma maneira de utilizar as estruturas de dados que já vêm por padrão na linguagem Python para representar o tabuleiro, as jogadas válidas e criar um jogador que faz jogadas ao acaso. A forma de representação criada neste notebook pode (e deve) ser modificada por você se concluir que outras formas são mais eficientes. Você pode optar, por exemplo, em usar algo mais próximo do que o que foi feito em sala de aula (representação do tabuleiro como tuplas de números inteiros) para o jogo da velha.\n",
        "\n",
        "\n",
        "# Breakthrough\n",
        "\n",
        "Breakthrough é um jogo de estratégia que possui algumas similaridades com xadrez e damas. O jogo precisa de dois jogadores (peças brancas e pretas), e um tabuleiro semelhante ao dos jogos de xadrez e damas.\n",
        "\n",
        "Nesse tabuleiro, o número de linhas e colunas poderá variar. Para identificar uma posição no tabuleiro usaremos o padrão (linha,coluna). A posição (1,1) será sempre a que está no canto inferior esquerdo das brancas e as outras posições serão numeradas a partir dela.\n",
        "\n",
        "## Movimentação e Captura\n",
        "\n",
        "O breakthrough possui apenas um tipo de peça que pode se mover um quadrado para frente ou para a diagonal, mas sempre em direção ao campo adversário. Em outras palavras, uma peça jamais pode retroceder ou se movimentar para outra posição na mesma linha. Isso ajuda a  garantir que o jogo não será infinito.\n",
        "\n",
        "Uma peça pode mover-se para uma posição ocupada pelo adversário se, e somente se, a posição do adversário está diagonalmente a um quadrado de distância. Neste caso, a peça do oponente será removida do tabuleiro (capturada) e o  jogador ocupará a casa com a sua peça. A figura a seguir ilustra os dois conceitos.\n",
        "\n",
        "\n",
        "![alt text](http://www.ic.unicamp.br/~udias/si202/movcapt.png)\n",
        "\n",
        "Na figura acima, a peça que está em (4,2) pode mover para as casas (5,1), (5,2) e (5,3), que estão marcadas com um \"x\". A peça que está em (4,6) pode capturar as peças pretas que estão em (5,5) e (5,7).\n",
        "\n",
        "Vale ressaltar que a captura não é obrigatória e não pode ser efetuada em cadeia (como no jogo de damas).\n",
        "\n",
        "## Fim de Jogo\n",
        "\n",
        "O jogo acaba quando um dos jogadores consegue colocar uma peça na sua última linha. Ou seja, o objetivo das brancas é colocar uma peça na linha $n$, onde $n$ é o número de linhas, e o objetivo das pretas é colocar uma peça na linha 1.\n",
        "\n",
        "Quando um dos jogadores não possuir mais nenhuma peça no tabuleiro, será considerado perdedor, pois não poderá mais atingir o objetivo do jogo e não conseguirá evitar que o adversário o atinja.\n",
        "\n",
        "Um ponto que deve ser observado é que **o jogo nunca terminará empatado**, pois uma peça nunca pode retroceder e é sempre possível encontrar pelo menos uma diagonal para onde possa se movimentar ou capturar.\n",
        "\n",
        "\n",
        "\n"
      ]
    },
    {
      "cell_type": "markdown",
      "metadata": {
        "id": "uRQi1-8jqTlZ"
      },
      "source": [
        "### Jogadores\n",
        "\n",
        "O breaktrough, assim como todos os jogos que usaremos nesta disciplina, vão ser jogados por dois jogadores. Seguiremos um padrão para nomear os jogadores:\n",
        "\n",
        "**O jogador que inicia a partida será chamado de \"1\", o outro jogador será chamado de \"-1\"**\n",
        "\n",
        "Como no breaktrough as peças **brancas** começam, então o jogador que conduz as peças brancas será o jogador **1**, enquanto que o jogador que conduz as peças pretas será chamado de **-1**.\n",
        "\n",
        "Lembre-se que todos os jogos desta disciplina são em turnos, então esse padrão poderá ser seguido por você em seu trabalho, a não ser que uma razão muito boa o faça mudar de ideia."
      ]
    },
    {
      "cell_type": "markdown",
      "metadata": {
        "id": "jayjnD2lqnX7"
      },
      "source": [
        "## Tabuleiro\n",
        "\n",
        "A forma mais óbvia de representar um tabuleiro talvez seja por meio de uma tupla contendo todas as células do tabuleiro em alguma ordem. Entretanto, seguiremos uma abordagem diferente dessa vez para que a nossa representão não seja uma simples cópia do que fizemos para o jogo da velha. Você pode, entretanto, refazer tudo o que fizemos neste notebook de hoje com a mesma estrutura da aula do jogo da velha.\n",
        "\n",
        "Na abordagem que seguiremos, um tabuleiro será representado por dois números e por um par de tuplas, uma delas contendo a listagem das peças brancas e a outra contendo a listagem das peças pretas. Os dois números anteriormente mencionados servem para definir as dimensões do tabuleiro, que serão fixadas previamente. A seguir, a representação de um possível tabuleiro:\n",
        "\n",
        "**4, 5, ((1,1),(2,2),(2,3)), ((3,3),(4,4),(2,4))**\n",
        "\n",
        "Nessa representação, temos um tabuleiro 4x5 onde as peças brancas estão nas casas (1,1), (2,2) e (2,3), enquanto que as peças pretas estão na casa ((3,3), (4,4) e (2,4))."
      ]
    },
    {
      "cell_type": "markdown",
      "source": [
        "## Biblioteca de suporte\n",
        "\n",
        "Uma biblioteca foi criada especificamente para este jogo e está disponível para você no github. No trabalho, você deve importar esta biblioteca e entender o que ela faz."
      ],
      "metadata": {
        "id": "gVR5edFeK6RX"
      }
    },
    {
      "cell_type": "code",
      "source": [
        "!wget https://raw.githubusercontent.com/ulissesdias/tt003/main/libraries/breakthrough.py\n"
      ],
      "metadata": {
        "id": "lj3yXLqsLBiz",
        "colab": {
          "base_uri": "https://localhost:8080/"
        },
        "outputId": "95464c85-981a-40aa-8fb0-0ca2efe2395e"
      },
      "execution_count": null,
      "outputs": [
        {
          "output_type": "stream",
          "name": "stdout",
          "text": [
            "--2024-11-23 23:22:20--  https://raw.githubusercontent.com/ulissesdias/tt003/main/libraries/breakthrough.py\n",
            "Resolving raw.githubusercontent.com (raw.githubusercontent.com)... 185.199.111.133, 185.199.110.133, 185.199.109.133, ...\n",
            "Connecting to raw.githubusercontent.com (raw.githubusercontent.com)|185.199.111.133|:443... connected.\n",
            "HTTP request sent, awaiting response... 200 OK\n",
            "Length: 8698 (8.5K) [text/plain]\n",
            "Saving to: ‘breakthrough.py’\n",
            "\n",
            "breakthrough.py     100%[===================>]   8.49K  --.-KB/s    in 0s      \n",
            "\n",
            "2024-11-23 23:22:20 (54.7 MB/s) - ‘breakthrough.py’ saved [8698/8698]\n",
            "\n"
          ]
        }
      ]
    },
    {
      "cell_type": "code",
      "source": [
        "import breakthrough as bkt"
      ],
      "metadata": {
        "id": "syO4WUwPWmlJ"
      },
      "execution_count": null,
      "outputs": []
    },
    {
      "cell_type": "markdown",
      "metadata": {
        "id": "NOKsyXFl9FTA"
      },
      "source": [
        "# Representação Visual do Tabuleiro\n",
        "\n",
        "Vamos fazer a representação visual do tabuleiro, você notará que não difere muito do que aprendemos para o jogo da velha.\n",
        "\n",
        "Foram implementadas uma série de funções que você pode fazer uso. Uma dessas funções é a **draw_board(lines, columns, white_positions, black_positions)**, que recebe as configurações de um tabuleiro e imprime esse tabuleiro no kernel. Os parâmetros para essa função são explicados abaixo.\n",
        "\n",
        "**lines:** número de linhas no tabuleiro.\n",
        "\n",
        "**columns:** número de colunas no tabuleiro.\n",
        "\n",
        "**white_positions:** posição das peças brancas.\n",
        "\n",
        "**black_positions:** posição das peças pretas.\n",
        "\n",
        "Um exemplo da chamada da função será mostrado a seguir."
      ]
    },
    {
      "cell_type": "code",
      "metadata": {
        "id": "_N_ejZR_-cTe",
        "colab": {
          "base_uri": "https://localhost:8080/",
          "height": 217
        },
        "outputId": "db4814a3-35dc-4086-e1cd-0ec3acad875a"
      },
      "source": [
        "board = bkt.draw_board(4,5,((1,1),(2,2),(2,3)), ((3,3),(4,4),(2,4)))\n",
        "display(board)"
      ],
      "execution_count": null,
      "outputs": [
        {
          "output_type": "display_data",
          "data": {
            "text/plain": [
              "<PIL.Image.Image image mode=RGB size=200x200>"
            ],
            "image/png": "[encoded data removed]",
            "image/jpeg": "[encoded data removed]"
          },
          "metadata": {}
        }
      ]
    },
    {
      "cell_type": "markdown",
      "metadata": {
        "id": "pNX1mzdhZCm6"
      },
      "source": [
        "## Sequência de Jogadas\n",
        "\n",
        "Será muito mais fácil para nós entendermos o jogo se tivermos uma maneira de visualizar uma partida inteira. Para isso, vamos usar a função **display_sequence**\n"
      ]
    },
    {
      "cell_type": "code",
      "metadata": {
        "id": "Uj1zFpS2ZKf8",
        "colab": {
          "base_uri": "https://localhost:8080/",
          "height": 353,
          "referenced_widgets": [
            "98c64ba788bb4e39954fbf52a0b6f1c1",
            "74e2c575ebc74eaf901fc37b5b0a34d8",
            "88df5e29ec6741fa9736f99c3e365030",
            "128cda3161484291abcd0fdca3454baf",
            "7ded631ac1374a9290cc357fb9b33e27",
            "2bd8fe878f0a496eb9d5776dc2aeee54",
            "3530dbb705c3439699a0beb6ba8132fc"
          ]
        },
        "outputId": "6c2112cb-4b02-4fc8-d421-60bcf95f88fa"
      },
      "source": [
        "images = [\n",
        "    bkt.draw_board(4,5,((1,1),(2,2),(2,3)), ((3,3),(4,4),(2,4))),\n",
        "    bkt.draw_board(4,5,((2,1),(2,2),(2,3)), ((3,3),(4,4),(2,4))),\n",
        "    bkt.draw_board(4,5,((2,1),(2,3)), ((2,2),(4,4),(2,4))),\n",
        "    bkt.draw_board(4,5,((3,1),(2,3)), ((2,2),(4,4),(2,4))),\n",
        "    bkt.draw_board(4,5,((3,1),(2,3)), ((2,2),(3,4),(2,4))),\n",
        "    bkt.draw_board(4,5,((4,1),(2,3)), ((2,2),(3,4),(2,4))),\n",
        "]\n",
        "bkt.display_sequence(images)"
      ],
      "execution_count": null,
      "outputs": [
        {
          "output_type": "display_data",
          "data": {
            "text/plain": [
              "interactive(children=(IntSlider(value=2, description='frame', max=5), Output()), _dom_classes=('widget-interac…"
            ],
            "application/vnd.jupyter.widget-view+json": {
              "version_major": 2,
              "version_minor": 0,
              "model_id": "98c64ba788bb4e39954fbf52a0b6f1c1"
            }
          },
          "metadata": {}
        },
        {
          "output_type": "execute_result",
          "data": {
            "text/plain": [
              "<function breakthrough.display_sequence.<locals>._show(frame=(0, 5))>"
            ],
            "text/html": [
              "<div style=\"max-width:800px; border: 1px solid var(--colab-border-color);\"><style>\n",
              "      pre.function-repr-contents {\n",
              "        overflow-x: auto;\n",
              "        padding: 8px 12px;\n",
              "        max-height: 500px;\n",
              "      }\n",
              "\n",
              "      pre.function-repr-contents.function-repr-contents-collapsed {\n",
              "        cursor: pointer;\n",
              "        max-height: 100px;\n",
              "      }\n",
              "    </style>\n",
              "    <pre style=\"white-space: initial; background:\n",
              "         var(--colab-secondary-surface-color); padding: 8px 12px;\n",
              "         border-bottom: 1px solid var(--colab-border-color);\"><b>breakthrough.display_sequence.&lt;locals&gt;._show</b><br/>def _show(frame=(0, len(images) - 1))</pre><pre class=\"function-repr-contents function-repr-contents-collapsed\" style=\"\"><a class=\"filepath\" style=\"display:none\" href=\"#\">/content/breakthrough.py</a>&lt;no docstring&gt;</pre>\n",
              "      <script>\n",
              "      if (google.colab.kernel.accessAllowed && google.colab.files && google.colab.files.view) {\n",
              "        for (const element of document.querySelectorAll('.filepath')) {\n",
              "          element.style.display = 'block'\n",
              "          element.onclick = (event) => {\n",
              "            event.preventDefault();\n",
              "            event.stopPropagation();\n",
              "            google.colab.files.view(element.textContent, 43);\n",
              "          };\n",
              "        }\n",
              "      }\n",
              "      for (const element of document.querySelectorAll('.function-repr-contents')) {\n",
              "        element.onclick = (event) => {\n",
              "          event.preventDefault();\n",
              "          event.stopPropagation();\n",
              "          element.classList.toggle('function-repr-contents-collapsed');\n",
              "        };\n",
              "      }\n",
              "      </script>\n",
              "      </div>"
            ]
          },
          "metadata": {},
          "execution_count": 21
        }
      ]
    },
    {
      "cell_type": "markdown",
      "metadata": {
        "id": "ShzcMNNUB0jW"
      },
      "source": [
        "# Implementando o Jogo\n",
        "\n",
        "Vamos começar a implementar o jogo propriamente dito para que seja possível posteriormente criar um jogador com aprendizado por reforço. Em sala de aula, aprendemos que para isso precisamos de dois itens principais:\n",
        "\n",
        "1. Identificar quando um jogo acabou e representar as condições de vitória.\n",
        "2. Identificar as jogadas válidas para cada estado (ações possíveis).\n"
      ]
    },
    {
      "cell_type": "markdown",
      "metadata": {
        "id": "G8iZVHwBvY_T"
      },
      "source": [
        "## Condições de Fim de Jogo\n",
        "\n",
        "Em geral, podemos identificar três condições em que uma partida pode ser finalizada:\n",
        "\n",
        "1. Uma peça branca chegou na última linha.\n",
        "2. Uma peça preta chegou na primeira linha.\n",
        "3. Um jogador perdeu todas as peças.\n",
        "\n",
        "Em cada uma dessas situações, é possível identificar um dos jogadores como vencedor, lembrando que **1** representa o jogador das brancas e **-1** representa o jogador das pretas.\n",
        "\n",
        "A função **winner** da biblioteca verifica essas possibilidades, usando os números **1** e **-1** nos casos de vitória de algum dos jogadores (brancas e pretas, respectivamente), e o número **0** no caso de partida ainda não concluída.\n",
        "\n",
        "Se você olhar o código notará que essa função foi implementada sem pensar em eficiência, apenas na legibilidade e na lógica. Se quiséssemos fazer uma função mais eficiente, levaríamos em conta que não é preciso percorrer toda a lista de peças para saber se uma partida acabou, pois basta verificar se a última peça movida alcançou a última linha (ou primeira, no caso da pretas) do tabuleiro. Você pode, se quiser, futuramente criar uma biblioteca mais eficiente."
      ]
    },
    {
      "cell_type": "code",
      "metadata": {
        "id": "dMK5JwcsvzBi",
        "colab": {
          "base_uri": "https://localhost:8080/"
        },
        "outputId": "de09c06c-dca6-4c95-bc63-fd95cc068e57"
      },
      "source": [
        "## Brancas vencem a partida\n",
        "bkt.winner(4,5,((4,1),(2,3)), ((2,2),(3,4),(2,4)))"
      ],
      "execution_count": null,
      "outputs": [
        {
          "output_type": "execute_result",
          "data": {
            "text/plain": [
              "1"
            ]
          },
          "metadata": {},
          "execution_count": 22
        }
      ]
    },
    {
      "cell_type": "code",
      "source": [
        "## Partida não acabou\n",
        "bkt.winner(4,5,((2,1),(2,3)), ((2,2),(4,4),(2,4)))"
      ],
      "metadata": {
        "colab": {
          "base_uri": "https://localhost:8080/"
        },
        "id": "4Ep-cBXKOXps",
        "outputId": "87cac511-5a3f-4505-d288-e42cb7be876d"
      },
      "execution_count": null,
      "outputs": [
        {
          "output_type": "execute_result",
          "data": {
            "text/plain": [
              "0"
            ]
          },
          "metadata": {},
          "execution_count": 23
        }
      ]
    },
    {
      "cell_type": "markdown",
      "metadata": {
        "id": "6gVVVDkMzkhY"
      },
      "source": [
        "## Jogadas Válidas para cada estado\n",
        "\n",
        "A biblioteca implementa também a função **get_valid_moves**. Nesse caso, você deverá passar as configurações do tabuleiro (**linhas**, **colunas**, **posições das brancas**, e **posições das pretas**), além de quem tem a vez de jogar. A função devolverá a posição inicial e a final das peças que podem ser movidas. Vamos supor o seguinte tabuleiro e ver quais jogadas poderiam ser feitas pelas brancas e pretas:"
      ]
    },
    {
      "cell_type": "code",
      "metadata": {
        "id": "92x7bIu3zxki",
        "colab": {
          "base_uri": "https://localhost:8080/",
          "height": 217
        },
        "outputId": "74074db3-9a95-43ec-e55b-03900ab894ae"
      },
      "source": [
        "## Tabuleiro\n",
        "lines = 5\n",
        "columns = 5\n",
        "white_positions = ((1,1),(2,2),(1,4),(1,5))\n",
        "black_positions = ((5,2),(5,3), (5,4),(4,5))\n",
        "bkt.draw_board(lines, columns, white_positions, black_positions)"
      ],
      "execution_count": null,
      "outputs": [
        {
          "output_type": "execute_result",
          "data": {
            "text/plain": [
              "<PIL.Image.Image image mode=RGB size=200x200>"
            ],
            "image/png": "[encoded data removed]",
            "image/jpeg": "[encoded data removed]"
          },
          "metadata": {},
          "execution_count": 24
        }
      ]
    },
    {
      "cell_type": "code",
      "source": [
        "## Jogadas das brancas\n",
        "bkt.get_valid_moves(lines, columns, white_positions, black_positions, 1)"
      ],
      "metadata": {
        "colab": {
          "base_uri": "https://localhost:8080/"
        },
        "id": "u_VsjrLFVjVZ",
        "outputId": "bb99c5eb-4dcb-4cbd-aef9-87f7209af2c7"
      },
      "execution_count": null,
      "outputs": [
        {
          "output_type": "execute_result",
          "data": {
            "text/plain": [
              "(((1, 1), (2, 1)),\n",
              " ((2, 2), (3, 1)),\n",
              " ((2, 2), (3, 2)),\n",
              " ((2, 2), (3, 3)),\n",
              " ((1, 4), (2, 3)),\n",
              " ((1, 4), (2, 4)),\n",
              " ((1, 4), (2, 5)),\n",
              " ((1, 5), (2, 4)),\n",
              " ((1, 5), (2, 5)))"
            ]
          },
          "metadata": {},
          "execution_count": 25
        }
      ]
    },
    {
      "cell_type": "code",
      "source": [
        "## Jogadas das pretas\n",
        "bkt.get_valid_moves(lines, columns, white_positions, black_positions, -1)"
      ],
      "metadata": {
        "colab": {
          "base_uri": "https://localhost:8080/"
        },
        "id": "lQBh15S8Vrmf",
        "outputId": "388d9025-1155-429d-9741-fdf97605b6c5"
      },
      "execution_count": null,
      "outputs": [
        {
          "output_type": "execute_result",
          "data": {
            "text/plain": [
              "[[(5, 2), (4, 3)],\n",
              " [(5, 2), (4, 2)],\n",
              " [(5, 2), (4, 1)],\n",
              " [(5, 3), (4, 4)],\n",
              " [(5, 3), (4, 3)],\n",
              " [(5, 3), (4, 2)],\n",
              " [(5, 4), (4, 4)],\n",
              " [(5, 4), (4, 3)],\n",
              " [(4, 5), (3, 5)],\n",
              " [(4, 5), (3, 4)]]"
            ]
          },
          "metadata": {},
          "execution_count": 26
        }
      ]
    },
    {
      "cell_type": "markdown",
      "metadata": {
        "id": "ON710HTI0wFw"
      },
      "source": [
        "## Efetuando Jogadas\n",
        "\n",
        "Supondo que queremos criar um **bot** para jogar breaktrough, o que ele precisa saber? Obviamente ele precisa saber quais são as jogadas válidas e qual peças ele está conduzindo. Basta isso para criarmos um jogador sem nenhum tipo de inteligência, que escolha ao acaso uma jogada dentre todas as disponíveis.\n"
      ]
    },
    {
      "cell_type": "code",
      "metadata": {
        "id": "_2-Sysd606xj"
      },
      "source": [
        "## O jogador retornará a peça que irá mover no\n",
        "## tabuleiro, seguida da posição no tabuleiro onde\n",
        "## deverá colocar a peça.\n",
        "player = bkt.random_player"
      ],
      "execution_count": null,
      "outputs": []
    },
    {
      "cell_type": "code",
      "source": [
        "## Retorna uma jogada se for a vez das brancas\n",
        "player(lines, columns, white_positions, black_positions, 1)"
      ],
      "metadata": {
        "colab": {
          "base_uri": "https://localhost:8080/"
        },
        "id": "L8JIbpvcYZKP",
        "outputId": "26780281-0ec5-4169-b3a4-5492e843cbca"
      },
      "execution_count": null,
      "outputs": [
        {
          "output_type": "execute_result",
          "data": {
            "text/plain": [
              "((1, 4), (2, 4))"
            ]
          },
          "metadata": {},
          "execution_count": 28
        }
      ]
    },
    {
      "cell_type": "code",
      "source": [
        "## Retorna uma jogada se for a vez das pretas\n",
        "player(lines, columns, white_positions, black_positions, -1)"
      ],
      "metadata": {
        "colab": {
          "base_uri": "https://localhost:8080/"
        },
        "id": "bLMRpsFZYoYP",
        "outputId": "10b8365e-6785-4391-eba0-d2e2a815cec1"
      },
      "execution_count": null,
      "outputs": [
        {
          "output_type": "execute_result",
          "data": {
            "text/plain": [
              "[(4, 5), (3, 4)]"
            ]
          },
          "metadata": {},
          "execution_count": 29
        }
      ]
    },
    {
      "cell_type": "markdown",
      "metadata": {
        "id": "IBHr_4213ZRH"
      },
      "source": [
        "## Gerenciador de Jogo\n",
        "\n",
        "Temos um tabuleiro e um jogador que pode conduzir as peças (brancas e pretas). O que devemos fazer agora é criar um gerenciador de jogo para que uma partida possa ser iniciada. O gerenciador irá:\n",
        "\n",
        "1.   Garantir que pedirá para o jogador certo jogar (alternância entre jogadores).\n",
        "2.   Gerenciar o tabuleiro de modo a fazer com que as jogadas sejam concretizadas.\n",
        "3.   Verificar se as condições de vitória, derrota ou empates já foram satisfeitas.\n",
        "4.   Armazenar um histórico de jogadas, para que os jogadores posteriormente possam analisar.\n",
        "\n",
        "A função que faz tudo isso é a função game da nossa biblioteca. Essa função devolverá o vencedor e um histórico das jogadas. Note que o histórico das jogadas é devolvido como uma sequência da seguinte forma:\n",
        "\n",
        "[ (turn_0, white_positions_0, black_positions_0), (turn_1, white_positions_1, black_positions_1), ..., (turn_n, white_positions_n, black_positions_n) ]"
      ]
    },
    {
      "cell_type": "code",
      "metadata": {
        "id": "8mhIVgVX59b5"
      },
      "source": [
        "## Agora vamos colocar o jogador para jogar contra si mesmo.\n",
        "winner, history = bkt.game(player, player)"
      ],
      "execution_count": null,
      "outputs": []
    },
    {
      "cell_type": "code",
      "source": [
        "## Veja quem é o vencedor\n",
        "winner"
      ],
      "metadata": {
        "colab": {
          "base_uri": "https://localhost:8080/"
        },
        "id": "100gNC5YZUuN",
        "outputId": "8b4e176d-d21e-4871-d056-b1d06dfde569"
      },
      "execution_count": null,
      "outputs": [
        {
          "output_type": "execute_result",
          "data": {
            "text/plain": [
              "1"
            ]
          },
          "metadata": {},
          "execution_count": 31
        }
      ]
    },
    {
      "cell_type": "code",
      "source": [
        "## Veja o histórico de partidas.\n",
        "history"
      ],
      "metadata": {
        "colab": {
          "base_uri": "https://localhost:8080/"
        },
        "id": "Yub4PHzLZXlS",
        "outputId": "ab560ef1-22ea-4f44-b3fe-5018d48dd830"
      },
      "execution_count": null,
      "outputs": [
        {
          "output_type": "execute_result",
          "data": {
            "text/plain": [
              "[(1,\n",
              "  ((1, 1), (1, 2), (1, 3), (1, 4), (1, 5)),\n",
              "  ((5, 1), (5, 2), (5, 3), (5, 4), (5, 5))),\n",
              " (-1,\n",
              "  ((1, 1), (1, 2), (1, 4), (1, 5), (2, 3)),\n",
              "  ((5, 1), (5, 2), (5, 3), (5, 4), (5, 5))),\n",
              " (1,\n",
              "  ((1, 1), (1, 2), (1, 4), (1, 5), (2, 3)),\n",
              "  ((5, 2), (5, 3), (5, 4), (5, 5), (4, 2))),\n",
              " (-1,\n",
              "  ((1, 1), (1, 2), (1, 4), (1, 5), (3, 4)),\n",
              "  ((5, 2), (5, 3), (5, 4), (5, 5), (4, 2))),\n",
              " (1,\n",
              "  ((1, 1), (1, 2), (1, 4), (1, 5), (3, 4)),\n",
              "  ((5, 2), (5, 3), (5, 5), (4, 2), (4, 4))),\n",
              " (-1,\n",
              "  ((1, 1), (1, 2), (1, 5), (3, 4), (2, 3)),\n",
              "  ((5, 2), (5, 3), (5, 5), (4, 2), (4, 4))),\n",
              " (1,\n",
              "  ((1, 1), (1, 2), (1, 5), (3, 4), (2, 3)),\n",
              "  ((5, 2), (5, 3), (5, 5), (4, 2), (3, 5))),\n",
              " (-1,\n",
              "  ((1, 1), (1, 2), (1, 5), (2, 3), (4, 3)),\n",
              "  ((5, 2), (5, 3), (5, 5), (4, 2), (3, 5))),\n",
              " (1,\n",
              "  ((1, 1), (1, 2), (1, 5), (2, 3), (4, 3)),\n",
              "  ((5, 2), (5, 3), (5, 5), (4, 2), (2, 5))),\n",
              " (-1,\n",
              "  ((1, 2), (1, 5), (2, 3), (4, 3), (2, 2)),\n",
              "  ((5, 2), (5, 3), (5, 5), (4, 2), (2, 5))),\n",
              " (1,\n",
              "  ((1, 2), (1, 5), (2, 3), (4, 3), (2, 2)),\n",
              "  ((5, 3), (5, 5), (4, 2), (2, 5), (4, 1))),\n",
              " (-1,\n",
              "  ((1, 2), (1, 5), (2, 3), (4, 3), (3, 1)),\n",
              "  ((5, 3), (5, 5), (4, 2), (2, 5), (4, 1))),\n",
              " (1,\n",
              "  ((1, 2), (1, 5), (2, 3), (4, 3), (3, 1)),\n",
              "  ((5, 5), (4, 2), (2, 5), (4, 1), (4, 4))),\n",
              " (-1,\n",
              "  ((1, 2), (1, 5), (2, 3), (4, 3), (4, 2)),\n",
              "  ((5, 5), (2, 5), (4, 1), (4, 4))),\n",
              " (1,\n",
              "  ((1, 2), (1, 5), (2, 3), (4, 3), (4, 2)),\n",
              "  ((5, 5), (2, 5), (4, 4), (3, 2))),\n",
              " (-1,\n",
              "  ((1, 2), (1, 5), (4, 3), (4, 2), (3, 3)),\n",
              "  ((5, 5), (2, 5), (4, 4), (3, 2))),\n",
              " (1,\n",
              "  ((1, 2), (1, 5), (4, 3), (4, 2), (3, 3)),\n",
              "  ((2, 5), (4, 4), (3, 2), (4, 5))),\n",
              " (-1, ((1, 2), (1, 5), (4, 3), (4, 2), (4, 4)), ((2, 5), (3, 2), (4, 5))),\n",
              " (1, ((1, 2), (1, 5), (4, 3), (4, 2), (4, 4)), ((2, 5), (4, 5), (2, 3))),\n",
              " (-1, ((1, 2), (1, 5), (4, 3), (4, 4), (5, 1)), ((2, 5), (4, 5), (2, 3)))]"
            ]
          },
          "metadata": {},
          "execution_count": 32
        }
      ]
    },
    {
      "cell_type": "markdown",
      "metadata": {
        "id": "IOyJhhl08fVY"
      },
      "source": [
        "## Desenhando Histórico\n",
        "\n",
        "Criamos anteriormente uma função que mostra uma sequência de **Images** na tela. Agora precisamos de uma função que cria esses objetos **Image**. A função que faz isso deverá percorrer o histórico e fazer as chamadas a **draw_board** de maneira adequada, nada muito complicado comparado com o que já conseguimos evoluir."
      ]
    },
    {
      "cell_type": "code",
      "metadata": {
        "id": "HhDYGfdY8aoO",
        "colab": {
          "base_uri": "https://localhost:8080/",
          "height": 353,
          "referenced_widgets": [
            "3cb243a8ceb94ce1b83479678c4107ad",
            "28f7d5a4acef4c149eea077a8214e547",
            "7864cb4056934eeba72ef915707ab12e",
            "90bd4164d2fe4ff48d30ae7d0e2b01d1",
            "85ced2077d3847e6a486aa97d2058f8d",
            "8a2017bf01d546f283efa51fdd37f5a0",
            "188baf5234054e5581e25a7cc609d368"
          ]
        },
        "outputId": "0cbc6753-194e-48ef-a811-3a05425d1d08"
      },
      "source": [
        "images = bkt.generate_image_history(lines, columns, history)\n",
        "bkt.display_sequence(images)"
      ],
      "execution_count": null,
      "outputs": [
        {
          "output_type": "display_data",
          "data": {
            "text/plain": [
              "interactive(children=(IntSlider(value=9, description='frame', max=19), Output()), _dom_classes=('widget-intera…"
            ],
            "application/vnd.jupyter.widget-view+json": {
              "version_major": 2,
              "version_minor": 0,
              "model_id": "3cb243a8ceb94ce1b83479678c4107ad"
            }
          },
          "metadata": {}
        },
        {
          "output_type": "execute_result",
          "data": {
            "text/plain": [
              "<function breakthrough.display_sequence.<locals>._show(frame=(0, 19))>"
            ],
            "text/html": [
              "<div style=\"max-width:800px; border: 1px solid var(--colab-border-color);\"><style>\n",
              "      pre.function-repr-contents {\n",
              "        overflow-x: auto;\n",
              "        padding: 8px 12px;\n",
              "        max-height: 500px;\n",
              "      }\n",
              "\n",
              "      pre.function-repr-contents.function-repr-contents-collapsed {\n",
              "        cursor: pointer;\n",
              "        max-height: 100px;\n",
              "      }\n",
              "    </style>\n",
              "    <pre style=\"white-space: initial; background:\n",
              "         var(--colab-secondary-surface-color); padding: 8px 12px;\n",
              "         border-bottom: 1px solid var(--colab-border-color);\"><b>breakthrough.display_sequence.&lt;locals&gt;._show</b><br/>def _show(frame=(0, len(images) - 1))</pre><pre class=\"function-repr-contents function-repr-contents-collapsed\" style=\"\"><a class=\"filepath\" style=\"display:none\" href=\"#\">/content/breakthrough.py</a>&lt;no docstring&gt;</pre>\n",
              "      <script>\n",
              "      if (google.colab.kernel.accessAllowed && google.colab.files && google.colab.files.view) {\n",
              "        for (const element of document.querySelectorAll('.filepath')) {\n",
              "          element.style.display = 'block'\n",
              "          element.onclick = (event) => {\n",
              "            event.preventDefault();\n",
              "            event.stopPropagation();\n",
              "            google.colab.files.view(element.textContent, 43);\n",
              "          };\n",
              "        }\n",
              "      }\n",
              "      for (const element of document.querySelectorAll('.function-repr-contents')) {\n",
              "        element.onclick = (event) => {\n",
              "          event.preventDefault();\n",
              "          event.stopPropagation();\n",
              "          element.classList.toggle('function-repr-contents-collapsed');\n",
              "        };\n",
              "      }\n",
              "      </script>\n",
              "      </div>"
            ]
          },
          "metadata": {},
          "execution_count": 33
        }
      ]
    },
    {
      "cell_type": "markdown",
      "source": [
        "## Jogando contra humanos\n",
        "\n",
        "Você pode pegar um jogador qualquer e fazê-lo jogar contra um humano"
      ],
      "metadata": {
        "id": "_dJFZoOZcBvw"
      }
    },
    {
      "cell_type": "code",
      "source": [
        "# winner, history = bkt.game(player, bkt.human_player)"
      ],
      "metadata": {
        "id": "Bm6_Yti1cGyW"
      },
      "execution_count": null,
      "outputs": []
    },
    {
      "cell_type": "markdown",
      "metadata": {
        "id": "nUcxm9WCCxat"
      },
      "source": [
        "## Criando um novo Jogador\n",
        "\n",
        "O seu trabalho agora será criar um jogador inteligente para este jogo de tabuleiro com o conhecimento que vimos em sala de aula. O seu jogador pode usar qualquer variável global (como o state_values) que vimos em sala de aula.\n",
        "\n",
        "As únicas restrições do seu jogador é que:\n",
        "\n",
        "1. Ele deverá receber todos os parâmetros que representam um tabuleiro: **linhas**, **colunas**, **posição das brancas** e **posição das pretas**.\n",
        "2. Ele deverá receber de quem é a vez de jogar.\n",
        "3. Ele deverá receber um **epsilon**.\n",
        "\n",
        "Nesse caso, a assinatura do seu jogador deve ser:\n",
        "\n",
        "```\n",
        "def novo_player(lines, columns, white_positions, black_positions, turn, epsilon)\n",
        "```\n",
        "\n",
        "Por exemplo, o jogador a seguir tem a assinatura correta."
      ]
    },
    {
      "cell_type": "code",
      "source": [
        "def novo_player(lines, columns, white_positions, black_positions, turn, epsilon) :\n",
        "    valid_moves = bkt.get_valid_moves(lines, columns, white_positions, black_positions, turn)\n",
        "    print(epsilon)\n",
        "    if epsilon < 0.5 :\n",
        "        return valid_moves[0]\n",
        "    else :\n",
        "        return valid_moves[-1]"
      ],
      "metadata": {
        "id": "wM0GsH71kKoc"
      },
      "execution_count": null,
      "outputs": []
    },
    {
      "cell_type": "markdown",
      "source": [
        "Note que se você quiser passar para o seu player um **epsilon** na chamada da função **game**, você deverá passar o epsilon para o próprio **game**."
      ],
      "metadata": {
        "id": "Fhn-gYx1lIu5"
      }
    },
    {
      "cell_type": "code",
      "source": [
        "bkt.game(novo_player, novo_player, lines, columns, white_positions, black_positions, epsilon = 0.7)"
      ],
      "metadata": {
        "colab": {
          "base_uri": "https://localhost:8080/"
        },
        "id": "fGoJCLEglIBZ",
        "outputId": "4762cf77-bc79-4ade-82bf-c0d2973cead3"
      },
      "execution_count": null,
      "outputs": [
        {
          "output_type": "stream",
          "name": "stdout",
          "text": [
            "0.7\n",
            "0.7\n",
            "0.7\n",
            "0.7\n",
            "0.7\n",
            "0.7\n"
          ]
        },
        {
          "output_type": "execute_result",
          "data": {
            "text/plain": [
              "(-1,\n",
              " [(1, ((1, 1), (2, 2), (1, 4), (1, 5)), ((5, 2), (5, 3), (5, 4), (4, 5))),\n",
              "  (-1, ((1, 1), (2, 2), (1, 4), (2, 5)), ((5, 2), (5, 3), (5, 4), (4, 5))),\n",
              "  (1, ((1, 1), (2, 2), (1, 4), (2, 5)), ((5, 2), (5, 3), (5, 4), (3, 4))),\n",
              "  (-1, ((1, 1), (2, 2), (1, 4), (3, 5)), ((5, 2), (5, 3), (5, 4), (3, 4))),\n",
              "  (1, ((1, 1), (2, 2), (1, 4), (3, 5)), ((5, 2), (5, 3), (5, 4), (2, 3))),\n",
              "  (-1, ((1, 1), (2, 2), (1, 4), (4, 5)), ((5, 2), (5, 3), (5, 4), (2, 3))),\n",
              "  (1, ((1, 1), (2, 2), (1, 4), (4, 5)), ((5, 2), (5, 3), (5, 4), (1, 2)))])"
            ]
          },
          "metadata": {},
          "execution_count": 36
        }
      ]
    },
    {
      "cell_type": "markdown",
      "source": [
        "# Crie um Jogador Inteligente com Monte Carlo\n",
        "\n",
        "Agora é sua vez, crie um jogador inteligente usando a abordagem de Monte Carlo. Nós configuraremos o ambiente da seguinte forma:\n",
        "\n",
        "1. Número de Linhas: 4\n",
        "2. Número de Colunas: 4\n",
        "3. Peças brancas: 4 peças iniciadas na linha 1\n",
        "4. Peças pretas: 4 peças iniciadas na linha 4.\n",
        "\n",
        "Em outras palavras, o tabuleiro será:"
      ],
      "metadata": {
        "id": "-gVnAONdmPO4"
      }
    },
    {
      "cell_type": "code",
      "source": [
        "## Tabuleiro\n",
        "lines = 4\n",
        "columns = 4\n",
        "white_positions = ((1,1),(1,2),(1,3),(1,4))\n",
        "black_positions = ((4,1),(4,2), (4,3),(4,4))\n",
        "bkt.draw_board(lines, columns, white_positions, black_positions)"
      ],
      "metadata": {
        "colab": {
          "base_uri": "https://localhost:8080/",
          "height": 217
        },
        "id": "2yBuq-bZmq7N",
        "outputId": "dd8eb114-c56b-413e-ad75-6b4d37d90926"
      },
      "execution_count": null,
      "outputs": [
        {
          "output_type": "execute_result",
          "data": {
            "text/plain": [
              "<PIL.Image.Image image mode=RGB size=200x200>"
            ],
            "image/png": "[encoded data removed]",
            "image/jpeg": "[encoded data removed]"
          },
          "metadata": {},
          "execution_count": 3
        }
      ]
    },
    {
      "cell_type": "markdown",
      "source": [
        "\n",
        "# Forma de Avaliação\n",
        "\n",
        "Você será avaliado por conseguir realizar seguintes itens:\n",
        "\n",
        "1. Consegue responder qual a distribuição de vitórias e derrotas quando jogadores sem nenhum tipo de conhecimento são colocados para competir entre si.\n",
        "2. Consegue representar os tabuleiros como estados em alguma estrutura de dados para depois computar state-values.\n",
        "3. Consegue usar uma partida entre dois jogadores como entrada para computar o valor acumulado descontado seguindo a lógica de Monte Carlo.\n",
        "4. Consegue atualizar os state-values de forma satisfatória.\n",
        "5. Consegue gerar uma política a partir dos state-values. Essa política não precisa estar explícita em uma variável, mas deve ser usada pelo seu jogador inteligente.\n",
        "6. Consegue fazer com que o jogador inteligente mude a distribuição de vitórias e derrotas obtidas no item 1.\n",
        "7. Consegue realizar uma partida contra o seu próprio jogador inteligente e mostrar que o seu jogador inteligente faz jogadas decentes."
      ],
      "metadata": {
        "id": "qmm0tmMVnT3g"
      }
    },
    {
      "cell_type": "code",
      "source": [
        "# Função para executar uma partida entre dois jogadores 'num_games' vezes\n",
        "def campeonato(player1, player2, num_games = 1000):\n",
        "    results = [0,0,0]\n",
        "    for i in range(num_games) :\n",
        "        result, history = bkt.game(player1, player2)\n",
        "        results[result] += 1\n",
        "    return tuple(results[1:]) # Removendo o primeiro valor (0) pois ele indica partidas não terminadas e o BKT sempre acaba!"
      ],
      "metadata": {
        "id": "8E6Mh7pdZPFZ"
      },
      "execution_count": null,
      "outputs": []
    },
    {
      "cell_type": "code",
      "source": [
        "random_player = bkt.random_player\n",
        "results = campeonato(random_player, random_player, 1000)\n",
        "print(\"P1 (Brancas) = %i, P2 (Pretas) = %i\" % results)"
      ],
      "metadata": {
        "colab": {
          "base_uri": "https://localhost:8080/"
        },
        "id": "Umw161Qy6Jxn",
        "outputId": "8409f1e9-7a82-415a-f3ab-636e2ae0b35c"
      },
      "execution_count": null,
      "outputs": [
        {
          "output_type": "stream",
          "name": "stdout",
          "text": [
            "P1 (Brancas) = 569, P2 (Pretas) = 431\n"
          ]
        }
      ]
    },
    {
      "cell_type": "code",
      "source": [
        "# Inicializando valores dos estados\n",
        "state_values = {}\n",
        "\n",
        "# Representação inicial\n",
        "initial_state = (white_positions, black_positions)\n",
        "\n",
        "default_initial_value = 0  # Valor neutro inicial\n",
        "\n",
        "# Associando um valor inicial ao estado\n",
        "state_values[initial_state] = default_initial_value\n",
        "state_values"
      ],
      "metadata": {
        "colab": {
          "base_uri": "https://localhost:8080/"
        },
        "id": "WferrTNvfDLo",
        "outputId": "742d8dec-685f-4240-ecc9-b7cb667375de"
      },
      "execution_count": null,
      "outputs": [
        {
          "output_type": "execute_result",
          "data": {
            "text/plain": [
              "{(((1, 1), (1, 2), (1, 3), (1, 4)), ((4, 1), (4, 2), (4, 3), (4, 4))): 0}"
            ]
          },
          "metadata": {},
          "execution_count": 6
        }
      ]
    },
    {
      "cell_type": "code",
      "source": [
        "import random\n",
        "\n",
        "# Parâmetros de aprendizado\n",
        "gamma = 0.9  # Fator de desconto\n",
        "alpha = 0.5  # Taxa de aprendizado\n",
        "\n",
        "# Função de recompensa\n",
        "def rewards(lines, columns, next_white_positions, next_black_positions, turn):\n",
        "    lwinner = bkt.winner(lines, columns, next_white_positions, next_black_positions)\n",
        "    if lwinner == 1:  # Vitória das brancas\n",
        "        return 10\n",
        "    elif lwinner == -1:  # Vitória das pretas\n",
        "        return -10\n",
        "    elif lwinner == 0:  # Jogo em andamento\n",
        "      # Recompensa adicional baseada na proximidade ao objetivo\n",
        "      proximity_reward = 0\n",
        "\n",
        "      if turn == 1:  # Jogador branco\n",
        "          for white_piece in next_white_positions:\n",
        "              row, _ = white_piece\n",
        "              proximity_reward += row / lines\n",
        "      else:  # Jogador preto\n",
        "          for black_piece in next_black_positions:\n",
        "              row, _ = black_piece\n",
        "              proximity_reward += (lines - row) / lines\n",
        "\n",
        "      total_pieces = len(next_white_positions) + len(next_black_positions)\n",
        "      proximity_reward /= total_pieces\n",
        "      return turn * proximity_reward\n",
        "      #return -1\n",
        "\n",
        "# Função para atualizar valores de estado\n",
        "def update_state_values(history):\n",
        "    discounted_return = 0  # Recompensa acumulada\n",
        "    for turn, white_positions, black_positions in reversed(history):\n",
        "        next_white_positions = white_positions\n",
        "        next_black_positions = black_positions\n",
        "\n",
        "        discounted_return = gamma * discounted_return + rewards(lines, columns, next_white_positions, next_black_positions, turn)\n",
        "\n",
        "        state_key = (tuple(white_positions), tuple(black_positions))\n",
        "        if state_key not in state_values:\n",
        "            state_values[state_key] = default_initial_value\n",
        "        state_values[state_key] += alpha * (discounted_return - state_values[state_key])\n",
        "\n",
        "# Função inteligente do jogador\n",
        "def intelligent_player(lines, columns, white_positions, black_positions, turn, epsilon=0):\n",
        "    valid_moves = bkt.get_valid_moves(lines, columns, white_positions, black_positions, turn)\n",
        "    if not valid_moves:\n",
        "        return None\n",
        "\n",
        "    if random.random() < epsilon:\n",
        "        return random.choice(valid_moves)\n",
        "    else:\n",
        "        scores = []\n",
        "        for move in valid_moves:\n",
        "            origem, destino = move\n",
        "            next_white_positions = list(white_positions)\n",
        "            next_black_positions = list(black_positions)\n",
        "\n",
        "            if turn == 1:\n",
        "                next_white_positions.remove(origem)\n",
        "                next_white_positions.append(destino)\n",
        "                if destino in black_positions:\n",
        "                    next_black_positions.remove(destino)\n",
        "            else:\n",
        "                next_black_positions.remove(origem)\n",
        "                next_black_positions.append(destino)\n",
        "                if destino in white_positions:\n",
        "                    next_white_positions.remove(destino)\n",
        "\n",
        "            next_state_key = (tuple(next_white_positions), tuple(next_black_positions))\n",
        "            reward = rewards(lines, columns, next_white_positions, next_black_positions, turn)\n",
        "            state_value = reward + gamma * state_values.get(next_state_key, 0)\n",
        "            scores.append(state_value)\n",
        "\n",
        "        best_score = max(scores) if turn == 1 else min(scores)\n",
        "        best_moves = [valid_moves[i] for i, score in enumerate(scores) if score == best_score]\n",
        "        return random.choice(best_moves)"
      ],
      "metadata": {
        "id": "p2xlmvqdr9fz"
      },
      "execution_count": null,
      "outputs": []
    },
    {
      "cell_type": "code",
      "source": [
        "num_games = 10000  # Número de jogos para aprender\n",
        "\n",
        "# Função principal para jogar os jogos\n",
        "def play_games(num_games):\n",
        "    for i in range(num_games):\n",
        "        # Probabilidade de escolha aleatória (exploração)\n",
        "        epsilon = max(0.01, (num_games - i)/num_games)\n",
        "\n",
        "        # Joga a partida\n",
        "        winner, history = bkt.game(player1=intelligent_player, player2=intelligent_player, lines=lines, columns=columns, white_positions=white_positions, black_positions=black_positions, epsilon = epsilon)\n",
        "        # Atualiza os valores dos estados\n",
        "        update_state_values(history)\n",
        "    print(list(state_values.items())[-10:])\n",
        "\n",
        "play_games(num_games)"
      ],
      "metadata": {
        "id": "zSJzunhHZorS",
        "colab": {
          "base_uri": "https://localhost:8080/"
        },
        "outputId": "e36f1ced-625b-41e8-8c54-0e487fffcb58"
      },
      "execution_count": null,
      "outputs": [
        {
          "output_type": "stream",
          "name": "stdout",
          "text": [
            "[((((1, 1), (3, 4)), ((4, 4), (2, 1))), 6.9375), ((((1, 1), (2, 4), (3, 2)), ((4, 3), (3, 1), (3, 4))), 4.625), ((((1, 1), (2, 3), (4, 4)), ((3, 2), (3, 1))), 5.0), ((((1, 1), (2, 4), (4, 1)), ((4, 4), (3, 1), (3, 3))), 5.0), ((((1, 1), (2, 4), (3, 2)), ((4, 4), (3, 1), (3, 3))), 4.625), ((((1, 1), (4, 3)), ((3, 2), (3, 3))), 5.0), ((((3, 4), (2, 2)), ((4, 1), (1, 3))), -5.0), ((((3, 4), (2, 2)), ((4, 1), (2, 4))), -4.5625), ((((3, 4), (2, 1)), ((4, 1), (1, 2))), -5.0), ((((3, 4), (2, 1)), ((4, 1), (2, 3))), -4.5625)]\n"
          ]
        }
      ]
    },
    {
      "cell_type": "code",
      "source": [
        "results = campeonato(random_player, random_player, 1000)\n",
        "print(\"Aleatório contra aleatório: P1 (Brancas) = %i, P2 (Pretas) = %i\" % results)\n",
        "\n",
        "results = campeonato(intelligent_player, random_player, 1000)\n",
        "print(\"Inteligente contra aleatório: P1 (Brancas) = %i, P2 (Pretas) = %i\" % results)\n",
        "\n",
        "results = campeonato(random_player, intelligent_player, 1000)\n",
        "print(\"Aleatório contra inteligente: P1 (Brancas) = %i, P2 (Pretas) = %i\" % results)"
      ],
      "metadata": {
        "colab": {
          "base_uri": "https://localhost:8080/"
        },
        "id": "Y_DV6lmlZmBX",
        "outputId": "4a937e1f-ea2a-4594-89e4-d76ec2b449ca"
      },
      "execution_count": null,
      "outputs": [
        {
          "output_type": "stream",
          "name": "stdout",
          "text": [
            "Aleatório contra aleatório: P1 (Brancas) = 563, P2 (Pretas) = 437\n",
            "Inteligente contra aleatório: P1 (Brancas) = 978, P2 (Pretas) = 22\n",
            "Aleatório contra inteligente: P1 (Brancas) = 49, P2 (Pretas) = 951\n"
          ]
        }
      ]
    },
    {
      "cell_type": "code",
      "source": [
        "result, history = bkt.game(player1=intelligent_player, player2=bkt.human_player, lines=lines, columns=columns, white_positions=white_positions, black_positions=black_positions)\n",
        "if result == 1:\n",
        "    print(\"Você perdeu!\")\n",
        "elif result == -1:\n",
        "    print(\"Você ganhou!\")"
      ],
      "metadata": {
        "id": "glicBi2cr-6D",
        "colab": {
          "base_uri": "https://localhost:8080/",
          "height": 1000
        },
        "outputId": "09e42de8-f981-4c82-bc47-6d687553d38c"
      },
      "execution_count": null,
      "outputs": [
        {
          "output_type": "display_data",
          "data": {
            "text/plain": [
              "<PIL.Image.Image image mode=RGB size=200x200>"
            ],
            "image/png": "[encoded data removed]",
            "image/jpeg": "[encoded data removed]"
          },
          "metadata": {}
        },
        {
          "name": "stdout",
          "output_type": "stream",
          "text": [
            "Jogue no formato '(origemLine, origemColumn), (destinoLine, destinoColumn)' \n",
            "(4,1),(3,2)\n"
          ]
        },
        {
          "output_type": "display_data",
          "data": {
            "text/plain": [
              "<PIL.Image.Image image mode=RGB size=200x200>"
            ],
            "image/png": "[encoded data removed]",
            "image/jpeg": "[encoded data removed]"
          },
          "metadata": {}
        },
        {
          "name": "stdout",
          "output_type": "stream",
          "text": [
            "Jogue no formato '(origemLine, origemColumn), (destinoLine, destinoColumn)' \n",
            "(4,4),(3,3)\n"
          ]
        },
        {
          "output_type": "display_data",
          "data": {
            "text/plain": [
              "<PIL.Image.Image image mode=RGB size=200x200>"
            ],
            "image/png": "[encoded data removed]",
            "image/jpeg": "[encoded data removed]"
          },
          "metadata": {}
        },
        {
          "name": "stdout",
          "output_type": "stream",
          "text": [
            "Jogue no formato '(origemLine, origemColumn), (destinoLine, destinoColumn)' \n",
            "(4,3),(3,2)\n"
          ]
        },
        {
          "output_type": "display_data",
          "data": {
            "text/plain": [
              "<PIL.Image.Image image mode=RGB size=200x200>"
            ],
            "image/png": "[encoded data removed]",
            "image/jpeg": "[encoded data removed]"
          },
          "metadata": {}
        },
        {
          "name": "stdout",
          "output_type": "stream",
          "text": [
            "Jogue no formato '(origemLine, origemColumn), (destinoLine, destinoColumn)' \n",
            "(4,2),(3,1)\n"
          ]
        },
        {
          "output_type": "display_data",
          "data": {
            "text/plain": [
              "<PIL.Image.Image image mode=RGB size=200x200>"
            ],
            "image/png": "[encoded data removed]",
            "image/jpeg": "[encoded data removed]"
          },
          "metadata": {}
        },
        {
          "name": "stdout",
          "output_type": "stream",
          "text": [
            "Jogue no formato '(origemLine, origemColumn), (destinoLine, destinoColumn)' \n",
            "(3,2),(2,1)\n"
          ]
        },
        {
          "output_type": "display_data",
          "data": {
            "text/plain": [
              "<PIL.Image.Image image mode=RGB size=200x200>"
            ],
            "image/png": "[encoded data removed]",
            "image/jpeg": "[encoded data removed]"
          },
          "metadata": {}
        },
        {
          "output_type": "stream",
          "name": "stdout",
          "text": [
            "Jogue no formato '(origemLine, origemColumn), (destinoLine, destinoColumn)' \n",
            "(3,1),(2,2)\n",
            "Você ganhou!\n"
          ]
        }
      ]
    }
  ]
}